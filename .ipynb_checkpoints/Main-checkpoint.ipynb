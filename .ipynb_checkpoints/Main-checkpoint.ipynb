{
 "cells": [
  {
   "cell_type": "code",
   "execution_count": 6,
   "metadata": {},
   "outputs": [],
   "source": [
    "class AmazonScrapper:\n",
    "    from bs4 import BeautifulSoup\n",
    "    from selenium import webdriver\n",
    "    from selenium.webdriver import ChromeOptions\n",
    "    import pandas\n",
    "\n",
    "    def __init__(selfe) -> None:\n",
    "        pass\n",
    "\n",
    "    def get_url(self, url):\n",
    "        \"\"\"\n",
    "        get the url from user\n",
    "        \"\"\"\n",
    "        pass\n",
    "\n",
    "    def get_asin():\n",
    "        pass\n",
    "\n",
    "    def filter_asin_by_allowed_brands():\n",
    "        pass\n",
    "\n",
    "    def filter_asin_by_seller_count():\n",
    "        pass\n",
    "\n",
    "    def filter_asin_by_brn_no():\n",
    "        pass\n",
    "\n",
    "    def filter_asin_by_price():\n",
    "        pass\n",
    "\n",
    "    def save_result():\n",
    "        pass\n"
   ]
  },
  {
   "cell_type": "code",
   "execution_count": null,
   "metadata": {},
   "outputs": [],
   "source": []
  }
 ],
 "metadata": {
  "kernelspec": {
   "display_name": "Python 3",
   "language": "python",
   "name": "python3"
  },
  "language_info": {
   "codemirror_mode": {
    "name": "ipython",
    "version": 3
   },
   "file_extension": ".py",
   "mimetype": "text/x-python",
   "name": "python",
   "nbconvert_exporter": "python",
   "pygments_lexer": "ipython3",
   "version": "3.8.5"
  }
 },
 "nbformat": 4,
 "nbformat_minor": 4
}
