class AmazonScrapper:
    import BeautifulSoup as bs
    from selenium import webdriver
    from selenium.webdriver import ChromeOptions
    import pandas

    def __init__(selfe) -> None:
        pass

    def get_url(self, url):
        """
        get the url from user
        """
        pass

    def get_asin():
        pass

    def filter_asin_by_allowed_brands():
        pass

    def filter_asin_by_seller_count():
        pass

    def filter_asin_by_brn_no():
        pass

    def filter_asin_by_price():
        pass

    def save_result():
        pass
