{
 "cells": [
  {
   "cell_type": "code",
   "execution_count": 1,
   "metadata": {},
   "outputs": [],
   "source": [
    "import numpy as np\n",
    "import pandas as pd"
   ]
  },
  {
   "cell_type": "code",
   "execution_count": 131,
   "metadata": {},
   "outputs": [],
   "source": [
    "loc = 'C:/Users/Jimoh/Documents/GitHub/Scraper/docs/products_extra_to_seller_testth.xlsx'"
   ]
  },
  {
   "cell_type": "code",
   "execution_count": 132,
   "metadata": {},
   "outputs": [],
   "source": [
    "df = pd.read_excel(loc)"
   ]
  },
  {
   "cell_type": "code",
   "execution_count": 206,
   "metadata": {},
   "outputs": [],
   "source": [
    "def seperate_ready_products(df, defects_loc = 'C:/Users/Jimoh/Documents/GitHub/Scraper/docs/defects/defects of ',\n",
    "                            products_loc = 'C:/Users/Jimoh/Documents/GitHub/Scraper/docs/products/products of '):\n",
    "    \n",
    "    products = df.dropna(subset=['Price+10%']).dropna(1)\n",
    "    products['Pyrice+10%'] *= 1.1\n",
    "    defects = df.dropna(subset=['Defects'])\n",
    "    \n",
    "    try:\n",
    "        old = pd.read_excel((products_loc + time.ctime()[:-14] + '.xlsx'))\n",
    "    except FileNotFoundError:\n",
    "        products.to_excel(products_loc + time.ctime()[:-14] + '.xlsx', index= False)    \n",
    "    else:\n",
    "        if list(old.ASIN) != list(products.ASIN):\n",
    "            products.append(old).drop_duplicates(subset= ['ASIN'], keep= 'last').to_excel(products_loc + time.ctime()[:-14] + '.xlsx', index= False)   \n",
    "        \n",
    "    try:\n",
    "        old = pd.read_excel((defects_loc + time.ctime()[:-14] + '.xlsx'))\n",
    "    except FileNotFoundError:\n",
    "        defects.to_excel(defects_loc + time.ctime()[:-14] + '.xlsx', index= False)\n",
    "    else:\n",
    "        if list(old.ASIN) != list(defects.ASIN):\n",
    "            defects.append(old).drop_duplicates(subset= ['ASIN'], keep= 'last').to_excel(defects_loc + time.ctime()[:-14] + '.xlsx', index= False)  \n",
    "        \n",
    "    return products, defects"
   ]
  },
  {
   "cell_type": "code",
   "execution_count": 208,
   "metadata": {
    "scrolled": true
   },
   "outputs": [],
   "source": [
    "products, defects = seperate_ready_products(df)"
   ]
  },
  {
   "cell_type": "code",
   "execution_count": 204,
   "metadata": {},
   "outputs": [],
   "source": [
    "products.to_excel(products_loc + time.ctime()[:-14] + '.xlsx', index= False)  "
   ]
  },
  {
   "cell_type": "code",
   "execution_count": 205,
   "metadata": {},
   "outputs": [],
   "source": [
    "defects.to_excel(defects_loc + time.ctime()[:-14] + '.xlsx', index= False)  "
   ]
  }
 ],
 "metadata": {
  "kernelspec": {
   "display_name": "Python 3",
   "language": "python",
   "name": "python3"
  },
  "language_info": {
   "codemirror_mode": {
    "name": "ipython",
    "version": 3
   },
   "file_extension": ".py",
   "mimetype": "text/x-python",
   "name": "python",
   "nbconvert_exporter": "python",
   "pygments_lexer": "ipython3",
   "version": "3.8.5"
  }
 },
 "nbformat": 4,
 "nbformat_minor": 4
}
